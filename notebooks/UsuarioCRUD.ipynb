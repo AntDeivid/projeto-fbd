{
 "cells": [
  {
   "cell_type": "markdown",
   "id": "211cb849-cfef-4f9a-993a-eed17edc217a",
   "metadata": {},
   "source": [
    "### Import das bibliotecas necessárias"
   ]
  },
  {
   "cell_type": "code",
   "execution_count": 1,
   "id": "5aa5735e-3fa9-4da6-9c0d-c009debea394",
   "metadata": {},
   "outputs": [],
   "source": [
    "import psycopg2 as pg\n",
    "import pandas as pd\n",
    "import ipywidgets as widgets\n",
    "from IPython.display import display"
   ]
  },
  {
   "cell_type": "markdown",
   "id": "68d402b9-a513-4b8e-97a7-f6ece8183141",
   "metadata": {},
   "source": [
    "### Configuração da conexão com o banco de dados PostgreSQL"
   ]
  },
  {
   "cell_type": "code",
   "execution_count": 2,
   "id": "95667438-fa8d-4bc4-b90c-2c09b1a4d923",
   "metadata": {},
   "outputs": [],
   "source": [
    "#conn = pg.connect(host='localhost', dbname= 'projeto-fbd', user='postgres', password= 'leader066') \n",
    "conn = pg.connect(database=\"projeto-fbd\",host=\"localhost\",port=5432,user='postgres',password='198019') #conexão do guigui"
   ]
  },
  {
   "cell_type": "markdown",
   "id": "d7adb76a-f351-44a8-abe3-20baa8905420",
   "metadata": {},
   "source": [
    "### Criação dos widgets"
   ]
  },
  {
   "cell_type": "code",
   "execution_count": 3,
   "id": "52d897fb-96a3-4091-84b9-4167966ba0c3",
   "metadata": {},
   "outputs": [],
   "source": [
    "cpfUsuario = widgets.Text(value='', placeholder='Digite o CPF do usuário', description='CPF:', disabled=False)\n",
    "\n",
    "nome = widgets.Text(value='', placeholder='Digite o nome do usuário', description='Nome:', disabled=False)\n",
    "\n",
    "dia = widgets.IntText(value=1, description='Dia:', disabled=False)\n",
    "\n",
    "mes = widgets.IntText(value=1, description='Mês:', disabled=False)\n",
    "\n",
    "ano = widgets.IntText(value=2023, description='Ano:', disabled=False)\n",
    "\n",
    "idade = widgets.IntText(value=0, description='Idade:', disabled=False)\n",
    "\n",
    "numero = widgets.Text(value='', placeholder='Digite o número', description='Número:', disabled=False)\n",
    "\n",
    "endereco = widgets.Text(value='', placeholder='Digite o endereço', description='Endereço:', disabled=False)\n",
    "\n",
    "tipo_sanguineo = widgets.Dropdown(options=['A+', 'A-', 'B+', 'B-', 'AB+', 'AB-', 'O+', 'O-'], value='A+', description='Tipo Sanguíneo:', disabled=False,)\n",
    "\n",
    "historico_medico = widgets.Textarea(value='', placeholder='Digite o histórico médico', description='Histórico Médico:', disabled=False)\n",
    "\n",
    "peso = widgets.FloatText(value=0.0, description='Peso:', disabled=False)"
   ]
  },
  {
   "cell_type": "markdown",
   "id": "9dbd29b6-ab15-454d-856b-2cbe5d5d1d63",
   "metadata": {},
   "source": [
    "### Criação dos botões e declaração das suas funções"
   ]
  },
  {
   "cell_type": "code",
   "execution_count": 5,
   "id": "8d774f6b-34c7-48ad-9857-26ecace8b99f",
   "metadata": {},
   "outputs": [],
   "source": [
    "# Criação dos botões\n",
    "createButton = widgets.Button(description=\"Cadastrar\")\n",
    "readButton = widgets.Button(description=\"Consultar\", value='Preencha os campos acima para consultar')\n",
    "updateButton = widgets.Button(description=\"Atualizar\", value= 'Preencha os campos acima para atualizar')\n",
    "deleteButton = widgets.Button(description=\"Deletar\", value= 'Preencha os campos acima para deletar')\n",
    "output = widgets.Output()\n",
    "\n",
    "# Declaração das funções\n",
    "\n",
    "# CREATE\n",
    "def onCreateButton(b):\n",
    "\n",
    "    try:\n",
    "        cursor = conn.cursor()\n",
    "        cursor.execute(\"INSERT INTO Usuario (cpfUsuario, nome, dia, mes, ano, idade, numero, endereco, tipo_sanguineo, historico_medico, peso) VALUES (%s, %s, %s, %s, %s, %s, %s, %s, %s, %s, %s)\", (cpfUsuario.value, nome.value, dia.value, mes.value, ano.value, idade.value, numero.value, endereco.value, tipo_sanguineo.value, historico_medico.value, peso.value))\n",
    "        conn.commit()\n",
    "        print(\"Dados inseridos com sucesso!\")\n",
    "    \n",
    "        df = pd.read_sql_query(\"SELECT * FROM usuario\", conn)\n",
    "        \n",
    "        display(cpfUsuario, nome, dia, mes, ano, idade, numero, endereco, tipo_sanguineo, historico_medico, peso)\n",
    "\n",
    "    except (Exception, pg.Error) as error:\n",
    "        cursor.execute(\"ROLLBACK\")\n",
    "        output.clear_output()\n",
    "        display(cpfUsuario, nome, dia, mes, ano, idade, numero, endereco, tipo_sanguineo, historico_medico, peso)\n",
    "        print(\"Falha ao inserir dados\", error)\n",
    "\n",
    "    finally:\n",
    "        cursor.close()\n",
    "\n",
    "\n",
    "# READ\n",
    "def onReadButton(b):\n",
    "\n",
    "    try:\n",
    "        cursor = conn.cursor()\n",
    "        cursor.execute(\"SELECT nome FROM Usuario\")\n",
    "        conn.commit()\n",
    "        df = pd.read_sql_query(\"SELECT * FROM Usuario\", conn)  # Alteração aqui para obter todos os campos\n",
    "        output.clear_output(wait=True)  # Limpa a saída\n",
    "        display(df)  # Exibe o DataFrame com os resultados\n",
    "\n",
    "    except (Exception, pg.Error) as error:\n",
    "        conn.rollback()  # Alteração aqui para realizar o rollback corretamente\n",
    "        output.clear_output()\n",
    "        print(\"Falha ao ler dados\", error)\n",
    "\n",
    "    finally:\n",
    "        cursor.close()\n",
    "\n",
    "\n",
    "# UPDATE\n",
    "def onUpdateButton(b):\n",
    "    \n",
    "    try:\n",
    "        cursor = conn.cursor()\n",
    "        cursor.execute(\"UPDATE Usuario SET cpfUsuario = %s, nome = %s, dia = %s, mes = %s, ano = %s, idade = %s, numero = %s, endereco = %s, tipo_sanguineo = %s, historico_medico = %s, peso = %s WHERE nome = %s\", (cpfUsuario.value, nome.value, dia.value, mes.value, ano.value, idade.value, numero.value, endereco.value, tipo_sanguineo.value, historico_medico.value, peso.value))\n",
    "        conn.commit()\n",
    "        df = pd.read_sql_query(\"SELECT nome FROM Usuario\", conn)\n",
    "        output\n",
    "        display(cpfUsuario, nome, dia, mes, ano, idade, numero, endereco, tipo_sanguineo, historico_medico, peso)\n",
    "        \n",
    "    except (Exception, pg.Error) as error:\n",
    "        cursor.execute(\"ROLLBACK\")\n",
    "        output.clear_output()\n",
    "        display(cpfUsuario, nome, dia, mes, ano, idade, numero, endereco, tipo_sanguineo, historico_medico, peso)\n",
    "        print(\"Falha ao atualizar Usuario\", error)\n",
    "        \n",
    "    finally:\n",
    "        cursor.close()\n",
    "\n",
    "\n",
    "# DELETE\n",
    "def onDeleteButton(b):\n",
    "\n",
    "    try:\n",
    "        cursor = conn.cursor()\n",
    "        cursor.execute(\"DELETE FROM Usuario WHERE cpfUsuario = %s\", (cpfUsuario.value))\n",
    "        conn.commit()\n",
    "        df = pd.read_sql_query(\"SELECT nome FROM Usuario\", conn)\n",
    "        output\n",
    "        display(cpfUsuario, nome, dia, mes, ano, idade, numero, endereco, tipo_sanguineo, historico_medico, peso)\n",
    "        \n",
    "    except (Exception, pg.Error) as error:\n",
    "        cursor.execute(\"ROLLBACK\")\n",
    "        output.clear_output()\n",
    "        display(cpfUsuario, nome, dia, mes, ano, idade, numero, endereco, tipo_sanguineo, historico_medico, peso)\n",
    "        print(\"Falha deletar Usuario\", error)\n",
    "        \n",
    "    finally:\n",
    "        cursor.close()\n",
    "\n",
    "\n",
    "# Especificar botões\n",
    "createButton.on_click(onCreateButton)\n",
    "readButton.on_click(onReadButton)\n",
    "updateButton.on_click(onUpdateButton)\n",
    "deleteButton.on_click(onDeleteButton)"
   ]
  },
  {
   "cell_type": "markdown",
   "id": "cb745e76-e7dd-4369-8093-75ac57660f46",
   "metadata": {},
   "source": [
    "### Exibir widgets"
   ]
  },
  {
   "cell_type": "code",
   "execution_count": 6,
   "id": "606d7e14-32a0-4501-af24-a7013ed81ef3",
   "metadata": {},
   "outputs": [
    {
     "data": {
      "application/vnd.jupyter.widget-view+json": {
       "model_id": "ac6abb380cd94d86a8139b0e7666e194",
       "version_major": 2,
       "version_minor": 0
      },
      "text/plain": [
       "Output()"
      ]
     },
     "execution_count": 6,
     "metadata": {},
     "output_type": "execute_result"
    }
   ],
   "source": [
    "with output:\n",
    "    display(cpfUsuario, nome, dia, mes, ano, idade, numero, endereco, tipo_sanguineo, historico_medico, peso, createButton, readButton, updateButton, deleteButton)\n",
    "output"
   ]
  },
  {
   "cell_type": "code",
   "execution_count": null,
   "id": "a1477624-d17f-4abd-a110-40afd6e33f6c",
   "metadata": {},
   "outputs": [],
   "source": []
  }
 ],
 "metadata": {
  "kernelspec": {
   "display_name": "Python 3 (ipykernel)",
   "language": "python",
   "name": "python3"
  },
  "language_info": {
   "codemirror_mode": {
    "name": "ipython",
    "version": 3
   },
   "file_extension": ".py",
   "mimetype": "text/x-python",
   "name": "python",
   "nbconvert_exporter": "python",
   "pygments_lexer": "ipython3",
   "version": "3.10.12"
  }
 },
 "nbformat": 4,
 "nbformat_minor": 5
}
