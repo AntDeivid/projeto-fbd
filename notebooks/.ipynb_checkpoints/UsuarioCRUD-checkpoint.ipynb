{
 "cells": [
  {
   "cell_type": "markdown",
   "id": "211cb849-cfef-4f9a-993a-eed17edc217a",
   "metadata": {},
   "source": [
    "### Import das bibliotecas necessárias"
   ]
  },
  {
   "cell_type": "code",
   "execution_count": 2,
   "id": "5aa5735e-3fa9-4da6-9c0d-c009debea394",
   "metadata": {},
   "outputs": [],
   "source": [
    "import psycopg2 as pg\n",
    "import pandas as pd\n",
    "import ipywidgets as widgets\n",
    "from IPython.display import display"
   ]
  },
  {
   "cell_type": "markdown",
   "id": "68d402b9-a513-4b8e-97a7-f6ece8183141",
   "metadata": {},
   "source": [
    "### Configuração da conexão com o banco de dados PostgreSQL"
   ]
  },
  {
   "cell_type": "code",
   "execution_count": 3,
   "id": "95667438-fa8d-4bc4-b90c-2c09b1a4d923",
   "metadata": {},
   "outputs": [],
   "source": [
    "con = pg.connect(host='localhost', dbname= 'projeto-fbd', user='postgres', password= 'leader066')"
   ]
  },
  {
   "cell_type": "markdown",
   "id": "d7adb76a-f351-44a8-abe3-20baa8905420",
   "metadata": {},
   "source": [
    "### Criação dos widgets"
   ]
  },
  {
   "cell_type": "code",
   "execution_count": 4,
   "id": "52d897fb-96a3-4091-84b9-4167966ba0c3",
   "metadata": {},
   "outputs": [],
   "source": [
    "cpf_usuario = widgets.Text(value='', placeholder='Digite o CPF do usuário', description='CPF:', disabled=False)\n",
    "\n",
    "nome = widgets.Text(value='', placeholder='Digite o nome do estabelecimento', description='Nome:', disabled=False)\n",
    "\n",
    "dia = widgets.IntText(value=1, description='Dia:', disabled=False)\n",
    "\n",
    "mes = widgets.IntText(value=1, description='Mês:', disabled=False)\n",
    "\n",
    "ano = widgets.IntText(value=2023, description='Ano:', disabled=False)\n",
    "\n",
    "idade = widgets.IntText(value=0, description='Idade:', disabled=False)\n",
    "\n",
    "numero = widgets.Text(value='', placeholder='Digite o número', description='Número:', disabled=False)\n",
    "\n",
    "endereco = widgets.Text(value='', placeholder='Digite o endereço', description='Endereço:', disabled=False)\n",
    "\n",
    "tipo_sanguineo = widgets.Dropdown(options=['A+', 'A-', 'B+', 'B-', 'AB+', 'AB-', 'O+', 'O-'], value='A+', description='Tipo Sanguíneo:', disabled=False,)\n",
    "\n",
    "historico_medico = widgets.Textarea(value='', placeholder='Digite o histórico médico', description='Histórico Médico:', disabled=False)\n",
    "\n",
    "peso = widgets.FloatText(value=0.0, description='Peso:', disabled=False)"
   ]
  },
  {
   "cell_type": "markdown",
   "id": "9dbd29b6-ab15-454d-856b-2cbe5d5d1d63",
   "metadata": {},
   "source": [
    "### Criação dos botões e declaração das suas funções"
   ]
  },
  {
   "cell_type": "code",
   "execution_count": 6,
   "id": "8d774f6b-34c7-48ad-9857-26ecace8b99f",
   "metadata": {},
   "outputs": [],
   "source": [
    "createButton = widgets.Button(description=\"Cadastrar\")\n",
    "readButton = widgets.Button(description=\"Consultar\", value='Preencha os campos acima para consultar')\n",
    "updateButton = widgets.Button(description=\"Atualizar\", value= 'Preencha os campos acima para atualizar')\n",
    "deleteButton = widgets.Button(description=\"Deletar\", value= 'Preencha os campos acima para deletar')\n",
    "output = widgets.Output()\n",
    "\n",
    "# Declaração das funções\n",
    "\n"
   ]
  },
  {
   "cell_type": "code",
   "execution_count": null,
   "id": "8abbe05a-873e-4f6d-8d09-323d863ffa85",
   "metadata": {},
   "outputs": [],
   "source": []
  }
 ],
 "metadata": {
  "kernelspec": {
   "display_name": "Python 3 (ipykernel)",
   "language": "python",
   "name": "python3"
  },
  "language_info": {
   "codemirror_mode": {
    "name": "ipython",
    "version": 3
   },
   "file_extension": ".py",
   "mimetype": "text/x-python",
   "name": "python",
   "nbconvert_exporter": "python",
   "pygments_lexer": "ipython3",
   "version": "3.11.4"
  }
 },
 "nbformat": 4,
 "nbformat_minor": 5
}
