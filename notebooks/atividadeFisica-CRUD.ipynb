{
 "cells": [
  {
   "cell_type": "code",
   "execution_count": 1,
   "id": "fe358e32",
   "metadata": {},
   "outputs": [],
   "source": [
    "import psycopg2 as pg\n",
    "import pandas as pd\n",
    "import ipywidgets as widgets\n",
    "from IPython.display import display"
   ]
  },
  {
   "cell_type": "code",
   "execution_count": 2,
   "id": "38ce4a37",
   "metadata": {},
   "outputs": [],
   "source": [
    "con = pg.connect(host='localhost', dbname= 'projeto-fbd', user='postgres', password= 'lxor8uqt')"
   ]
  },
  {
   "cell_type": "code",
   "execution_count": 3,
   "id": "974f79ac",
   "metadata": {},
   "outputs": [],
   "source": [
    "tempo = widgets.Text(\n",
    "    value='',\n",
    "    placeholder = 'Digite o tempo da atividade física',\n",
    "    description = 'Atividade Física:',\n",
    "    disabled = False\n",
    ")\n",
    "\n",
    "tempo = widgets.Text(\n",
    "    value = '',\n",
    "    placeholder = 'Digite o tempo da atividade física',\n",
    "    description = 'Atividade Física:',\n",
    "    disabled = False\n",
    ")\n",
    "\n",
    "tipo = widgets.Text(\n",
    "    value = '',\n",
    "    placeholder = 'Digite o tipo de atividade física',\n",
    "    description = 'Tipo Atividade Física:',\n",
    "    disabled = False\n",
    ")\n",
    "\n",
    "objetivo = widgets.Text (\n",
    "    value = '',\n",
    "    placeholder = 'Digite qual o objetivo da sua atividade', \n",
    "    description = 'Objetivo: ', \n",
    "    disabled = False\n",
    ")\n",
    "\n",
    "atividadeid = widgets.Text(\n",
    "    value = '',\n",
    "    placeholder = 'Digite o ID da atividade',\n",
    "    description = 'ID da Atividade:',\n",
    "    disabled = False\n",
    ")\n",
    "\n",
    "cpfusuario = widgets.Text(\n",
    "    value = '',\n",
    "    placeholder = 'Digite o CPF do usuário',\n",
    "    description = 'CPF do Usuário:',\n",
    "    disabled = False\n",
    ")"
   ]
  },
  {
   "cell_type": "code",
   "execution_count": 4,
   "id": "7cf865b9",
   "metadata": {},
   "outputs": [],
   "source": [
    "# Botões do CRUD com descrição\n",
    "\n",
    "button = widgets.Button(description=\"Cadastrar Atividade\")\n",
    "button2 = widgets.Button(description=\"Consultar Atividade\", value='Preencha os campos acima para consultar')\n",
    "button3 = widgets.Button(description=\"Atualizar Atividade\", value= 'Preencha os campos acima para atualizar')\n",
    "button4 = widgets.Button(description=\"Deletar Atividade\", value= 'Preencha os campos acima para deletar')\n",
    "output = widgets.Output()"
   ]
  },
  {
   "cell_type": "code",
   "execution_count": 5,
   "id": "22ad8a00",
   "metadata": {
    "scrolled": true
   },
   "outputs": [
    {
     "data": {
      "application/vnd.jupyter.widget-view+json": {
       "model_id": "d87901995c854e399d165b6b8c3b463e",
       "version_major": 2,
       "version_minor": 0
      },
      "text/plain": [
       "Output()"
      ]
     },
     "execution_count": 5,
     "metadata": {},
     "output_type": "execute_result"
    }
   ],
   "source": [
    "def on_button_insert(b):\n",
    "    try:\n",
    "        cursor = con.cursor()\n",
    "        cursor.execute(\"INSERT INTO atividade_fisica (tempo, tipo, objetivo, atividadeid, cpfusuario) VALUES (%s, %s, %s, %s, %s)\", (tempo.value, tipo.value, objetivo.value, atividadeid.value, cpfusuario.value))\n",
    "        con.commit()\n",
    "        print(\"Dados inseridos com sucesso!\")\n",
    "    \n",
    "        df = pd.read_sql_query(\"SELECT * FROM atividade_fisica\", con)\n",
    "        \n",
    "        display(tempo, tipo, objetivo, atividadeid, cpfusuario, df)\n",
    "    \n",
    "    except (Exception, pg.Error) as error:\n",
    "        cursor.execute(\"ROLLBACK\")\n",
    "        output.clear_output()\n",
    "        display(tempo, tipo, objetivo, atividadeid, cpfusuario, df)\n",
    "        print(\"Falha ao inserir os dados na tabela Atividades Físicas\", error)\n",
    "\n",
    "    finally:\n",
    "        cursor.close()\n",
    "        \n",
    "button.on_click(on_button_insert)\n",
    "with output:\n",
    "        display(tempo, tipo, objetivo, atividadeid, cpfusuario, button)\n",
    "output"
   ]
  },
  {
   "cell_type": "code",
   "execution_count": 6,
   "id": "cfdd1747",
   "metadata": {},
   "outputs": [
    {
     "data": {
      "application/vnd.jupyter.widget-view+json": {
       "model_id": "d87901995c854e399d165b6b8c3b463e",
       "version_major": 2,
       "version_minor": 0
      },
      "text/plain": [
       "Output(outputs=({'output_type': 'display_data', 'data': {'text/plain': \"Text(value='', description='Atividade …"
      ]
     },
     "execution_count": 6,
     "metadata": {},
     "output_type": "execute_result"
    }
   ],
   "source": [
    "def on_button2_query(b):\n",
    "    try:\n",
    "        cursor = con.cursor()\n",
    "        cursor.execute(\"SELECT * FROM atividade_fisica WHERE tipo = %s\", (tipo.value,))\n",
    "        con.commit()\n",
    "        \n",
    "        df = pd.read_sql_query(\"SELECT * FROM atividade_fisica WHERE tipo = %s\", con, params=(tipo.value,))\n",
    "        output\n",
    "        display(tempo, tipo, objetivo, atividadeid, cpfusuario, df)\n",
    "\n",
    "    except (Exception, pg.Error) as error:\n",
    "        cursor.execute(\"ROLLBACK\")\n",
    "        output.clear_output()\n",
    "        display(tempo, tipo, objetivo, atividadeid, cpfusuario, df)\n",
    "        print(\"Falha ao consultar os dados na tabela de Atividades Físicas\", error)\n",
    "\n",
    "    finally:\n",
    "        cursor.close()\n",
    "        \n",
    "button2.on_click(on_button2_query)\n",
    "with output:\n",
    "        display(tempo, tipo, objetivo, atividadeid, cpfusuario, button2)\n",
    "output"
   ]
  },
  {
   "cell_type": "code",
   "execution_count": null,
   "id": "e9f6790d",
   "metadata": {},
   "outputs": [],
   "source": []
  }
 ],
 "metadata": {
  "kernelspec": {
   "display_name": "Python 3 (ipykernel)",
   "language": "python",
   "name": "python3"
  },
  "language_info": {
   "codemirror_mode": {
    "name": "ipython",
    "version": 3
   },
   "file_extension": ".py",
   "mimetype": "text/x-python",
   "name": "python",
   "nbconvert_exporter": "python",
   "pygments_lexer": "ipython3",
   "version": "3.11.5"
  }
 },
 "nbformat": 4,
 "nbformat_minor": 5
}
